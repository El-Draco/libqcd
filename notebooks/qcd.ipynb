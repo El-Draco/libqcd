{
 "cells": [
  {
   "cell_type": "code",
   "execution_count": null,
   "id": "initial_id",
   "metadata": {
    "collapsed": true
   },
   "outputs": [],
   "source": [
    "from sage.all import *\n",
    "\n",
    "# Define the ring Z4 (integers mod 4)\n",
    "Z4 = IntegerModRing(4)\n",
    "\n",
    "# Example: Create a random generator matrix G for a linear code of length n\n",
    "def generate_random_code(n, k):\n",
    "    \"\"\"Generates a random linear code over Z4 with generator matrix of size k x n.\"\"\"\n",
    "    G = random_matrix(Z4, k, n)  # k x n generator matrix\n",
    "    C = LinearCode(G)  # Define the linear code\n",
    "    return C\n",
    "\n",
    "# Define code length and dimension\n",
    "n = 5  # Length of codewords\n",
    "k = 3  # Number of basis vectors (rank of generator matrix)\n",
    "\n",
    "# Generate a quaternary linear code\n",
    "C = generate_random_code(n, k)\n",
    "\n",
    "# Compute the dual code\n",
    "C_dual = C.dual_code()\n",
    "\n",
    "# Check properties\n",
    "is_self_dual = C == C_dual\n",
    "is_self_orthogonal = C.is_self_orthogonal()\n",
    "is_lcd = C.is_linear_complementary_dual()\n",
    "\n",
    "# Display results\n",
    "print(\"Generator Matrix:\\n\", C.generator_matrix())\n",
    "print(\"Parity Check Matrix (Dual Code):\\n\", C_dual.generator_matrix())\n",
    "print(\"Self-Dual:\", is_self_dual)\n",
    "print(\"Self-Orthogonal:\", is_self_orthogonal)\n",
    "print(\"LCD:\", is_lcd)"
   ]
  }
 ],
 "metadata": {
  "kernelspec": {
   "display_name": "Python 3",
   "language": "python",
   "name": "python3"
  },
  "language_info": {
   "codemirror_mode": {
    "name": "ipython",
    "version": 2
   },
   "file_extension": ".py",
   "mimetype": "text/x-python",
   "name": "python",
   "nbconvert_exporter": "python",
   "pygments_lexer": "ipython2",
   "version": "2.7.6"
  }
 },
 "nbformat": 4,
 "nbformat_minor": 5
}
